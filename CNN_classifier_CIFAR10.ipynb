{
 "cells": [
  {
   "cell_type": "code",
   "execution_count": 1,
   "metadata": {},
   "outputs": [
    {
     "name": "stderr",
     "output_type": "stream",
     "text": [
      "Using TensorFlow backend.\n"
     ]
    }
   ],
   "source": [
    "from matplotlib import pyplot as plt\n",
    "import numpy as np\n",
    "import classifier_utils\n",
    "from classifier_utils import cnn_model, preprocess_img, get_class\n",
    "%matplotlib inline\n",
    "import glob\n",
    "import os\n",
    "from skimage import io\n",
    "from skimage import transform\n",
    "import keras\n",
    "from keras.layers.core import Flatten, Dense, Dropout, Lambda\n",
    "from keras.models import Sequential, Model\n",
    "import vgg16\n"
   ]
  },
  {
   "cell_type": "markdown",
   "metadata": {},
   "source": [
    "## Loading CIFAR10"
   ]
  },
  {
   "cell_type": "code",
   "execution_count": 2,
   "metadata": {
    "collapsed": true
   },
   "outputs": [],
   "source": [
    "from keras.datasets import cifar10\n",
    "(x_train, y_train), (x_test, y_test) = cifar10.load_data()"
   ]
  },
  {
   "cell_type": "code",
   "execution_count": null,
   "metadata": {},
   "outputs": [],
   "source": [
    "print y_train[1] "
   ]
  },
  {
   "cell_type": "markdown",
   "metadata": {},
   "source": [
    "### Array details (dimension, type):"
   ]
  },
  {
   "cell_type": "code",
   "execution_count": null,
   "metadata": {},
   "outputs": [],
   "source": [
    "print x_train.shape"
   ]
  },
  {
   "cell_type": "code",
   "execution_count": null,
   "metadata": {},
   "outputs": [],
   "source": [
    "type(x_train)"
   ]
  },
  {
   "cell_type": "code",
   "execution_count": null,
   "metadata": {},
   "outputs": [],
   "source": [
    "print x_train"
   ]
  },
  {
   "cell_type": "markdown",
   "metadata": {},
   "source": [
    "### Image resizing. Vgg16 takes minimum size of 48x48"
   ]
  },
  {
   "cell_type": "code",
   "execution_count": 3,
   "metadata": {},
   "outputs": [
    {
     "name": "stderr",
     "output_type": "stream",
     "text": [
      "/home/pas_user/anaconda2/envs/tensor_virtenv/lib/python2.7/site-packages/skimage/transform/_warps.py:84: UserWarning: The default mode, 'constant', will be changed to 'reflect' in skimage 0.15.\n",
      "  warn(\"The default mode, 'constant', will be changed to 'reflect' in \"\n"
     ]
    }
   ],
   "source": [
    "x_train_vgg = np.zeros((50000,64,64,3))\n",
    "\n",
    "for i in range(50000):\n",
    "    x_train_vgg[i] = transform.resize(x_train[i], (64, 64), order=0)"
   ]
  },
  {
   "cell_type": "code",
   "execution_count": 4,
   "metadata": {
    "collapsed": true
   },
   "outputs": [],
   "source": [
    "#1st model\n",
    "#IMG_SIZE = 32\n",
    "#2nd model\n",
    "IMG_SIZE = 64 \n",
    "NUM_CLASSES = 10"
   ]
  },
  {
   "cell_type": "markdown",
   "metadata": {},
   "source": [
    "### Reducing amount of pictures"
   ]
  },
  {
   "cell_type": "code",
   "execution_count": null,
   "metadata": {
    "collapsed": true
   },
   "outputs": [],
   "source": [
    "#1st model\n",
    "x_train = x_train[0:5000]\n",
    "y_train = y_train[0:5000]"
   ]
  },
  {
   "cell_type": "code",
   "execution_count": 20,
   "metadata": {},
   "outputs": [
    {
     "ename": "TypeError",
     "evalue": "'int' object is not iterable",
     "output_type": "error",
     "traceback": [
      "\u001b[0;31m---------------------------------------------------------------------------\u001b[0m",
      "\u001b[0;31mTypeError\u001b[0m                                 Traceback (most recent call last)",
      "\u001b[0;32m<ipython-input-20-f4afc9230582>\u001b[0m in \u001b[0;36m<module>\u001b[0;34m()\u001b[0m\n\u001b[0;32m----> 1\u001b[0;31m \u001b[0;32mfor\u001b[0m \u001b[0mi\u001b[0m \u001b[0;32min\u001b[0m \u001b[0mlen\u001b[0m\u001b[0;34m(\u001b[0m\u001b[0my_train\u001b[0m\u001b[0;34m)\u001b[0m\u001b[0;34m:\u001b[0m\u001b[0;34m\u001b[0m\u001b[0m\n\u001b[0m\u001b[1;32m      2\u001b[0m     \u001b[0;32mprint\u001b[0m \u001b[0mi\u001b[0m\u001b[0;34m\u001b[0m\u001b[0m\n",
      "\u001b[0;31mTypeError\u001b[0m: 'int' object is not iterable"
     ]
    }
   ],
   "source": [
    "#print categories .count\n",
    "for i in len(y_train):\n",
    "    print i"
   ]
  },
  {
   "cell_type": "code",
   "execution_count": 5,
   "metadata": {
    "collapsed": true
   },
   "outputs": [],
   "source": [
    "#2nd model\n",
    "x_train_vgg = x_train_vgg[0:5000]\n",
    "y_train_vgg = y_train[0:5000]"
   ]
  },
  {
   "cell_type": "code",
   "execution_count": 6,
   "metadata": {},
   "outputs": [
    {
     "name": "stdout",
     "output_type": "stream",
     "text": [
      "(5000, 64, 64, 3)\n"
     ]
    }
   ],
   "source": [
    "print x_train_vgg.shape"
   ]
  },
  {
   "cell_type": "code",
   "execution_count": null,
   "metadata": {},
   "outputs": [],
   "source": [
    "x_train = x_train.astype('float32')/255 # now values are between 0 and 1"
   ]
  },
  {
   "cell_type": "markdown",
   "metadata": {},
   "source": [
    "### Why already calculated values? By default on .resize"
   ]
  },
  {
   "cell_type": "code",
   "execution_count": 7,
   "metadata": {},
   "outputs": [
    {
     "name": "stdout",
     "output_type": "stream",
     "text": [
      "[[[[ 0.23137255  0.24313725  0.24705882]\n",
      "   [ 0.23137255  0.24313725  0.24705882]\n",
      "   [ 0.16862745  0.18039216  0.17647059]\n",
      "   ..., \n",
      "   [ 0.59607843  0.49019608  0.4       ]\n",
      "   [ 0.58039216  0.48627451  0.40392157]\n",
      "   [ 0.58039216  0.48627451  0.40392157]]\n",
      "\n",
      "  [[ 0.23137255  0.24313725  0.24705882]\n",
      "   [ 0.23137255  0.24313725  0.24705882]\n",
      "   [ 0.16862745  0.18039216  0.17647059]\n",
      "   ..., \n",
      "   [ 0.59607843  0.49019608  0.4       ]\n",
      "   [ 0.58039216  0.48627451  0.40392157]\n",
      "   [ 0.58039216  0.48627451  0.40392157]]\n",
      "\n",
      "  [[ 0.0627451   0.07843137  0.07843137]\n",
      "   [ 0.0627451   0.07843137  0.07843137]\n",
      "   [ 0.          0.          0.        ]\n",
      "   ..., \n",
      "   [ 0.46666667  0.3254902   0.19607843]\n",
      "   [ 0.47843137  0.34117647  0.22352941]\n",
      "   [ 0.47843137  0.34117647  0.22352941]]\n",
      "\n",
      "  ..., \n",
      "  [[ 0.70588235  0.54509804  0.37647059]\n",
      "   [ 0.70588235  0.54509804  0.37647059]\n",
      "   [ 0.67843137  0.48235294  0.16470588]\n",
      "   ..., \n",
      "   [ 0.38039216  0.24313725  0.13333333]\n",
      "   [ 0.3254902   0.20784314  0.13333333]\n",
      "   [ 0.3254902   0.20784314  0.13333333]]\n",
      "\n",
      "  [[ 0.69411765  0.56470588  0.45490196]\n",
      "   [ 0.69411765  0.56470588  0.45490196]\n",
      "   [ 0.65882353  0.50588235  0.36862745]\n",
      "   ..., \n",
      "   [ 0.59215686  0.4627451   0.32941176]\n",
      "   [ 0.48235294  0.36078431  0.28235294]\n",
      "   [ 0.48235294  0.36078431  0.28235294]]\n",
      "\n",
      "  [[ 0.69411765  0.56470588  0.45490196]\n",
      "   [ 0.69411765  0.56470588  0.45490196]\n",
      "   [ 0.65882353  0.50588235  0.36862745]\n",
      "   ..., \n",
      "   [ 0.59215686  0.4627451   0.32941176]\n",
      "   [ 0.48235294  0.36078431  0.28235294]\n",
      "   [ 0.48235294  0.36078431  0.28235294]]]\n",
      "\n",
      "\n",
      " [[[ 0.60392157  0.69411765  0.73333333]\n",
      "   [ 0.60392157  0.69411765  0.73333333]\n",
      "   [ 0.49411765  0.5372549   0.53333333]\n",
      "   ..., \n",
      "   [ 0.34117647  0.35294118  0.27843137]\n",
      "   [ 0.30980392  0.31764706  0.2745098 ]\n",
      "   [ 0.30980392  0.31764706  0.2745098 ]]\n",
      "\n",
      "  [[ 0.60392157  0.69411765  0.73333333]\n",
      "   [ 0.60392157  0.69411765  0.73333333]\n",
      "   [ 0.49411765  0.5372549   0.53333333]\n",
      "   ..., \n",
      "   [ 0.34117647  0.35294118  0.27843137]\n",
      "   [ 0.30980392  0.31764706  0.2745098 ]\n",
      "   [ 0.30980392  0.31764706  0.2745098 ]]\n",
      "\n",
      "  [[ 0.54901961  0.62745098  0.6627451 ]\n",
      "   [ 0.54901961  0.62745098  0.6627451 ]\n",
      "   [ 0.56862745  0.6         0.60392157]\n",
      "   ..., \n",
      "   [ 0.30196078  0.31372549  0.24313725]\n",
      "   [ 0.27843137  0.28627451  0.23921569]\n",
      "   [ 0.27843137  0.28627451  0.23921569]]\n",
      "\n",
      "  ..., \n",
      "  [[ 0.64705882  0.60392157  0.50196078]\n",
      "   [ 0.64705882  0.60392157  0.50196078]\n",
      "   [ 0.61176471  0.59607843  0.50980392]\n",
      "   ..., \n",
      "   [ 0.48235294  0.44705882  0.47058824]\n",
      "   [ 0.51372549  0.4745098   0.51372549]\n",
      "   [ 0.51372549  0.4745098   0.51372549]]\n",
      "\n",
      "  [[ 0.63921569  0.58039216  0.47058824]\n",
      "   [ 0.63921569  0.58039216  0.47058824]\n",
      "   [ 0.61960784  0.58039216  0.47843137]\n",
      "   ..., \n",
      "   [ 0.56078431  0.5254902   0.55686275]\n",
      "   [ 0.56078431  0.52156863  0.56470588]\n",
      "   [ 0.56078431  0.52156863  0.56470588]]\n",
      "\n",
      "  [[ 0.63921569  0.58039216  0.47058824]\n",
      "   [ 0.63921569  0.58039216  0.47058824]\n",
      "   [ 0.61960784  0.58039216  0.47843137]\n",
      "   ..., \n",
      "   [ 0.56078431  0.5254902   0.55686275]\n",
      "   [ 0.56078431  0.52156863  0.56470588]\n",
      "   [ 0.56078431  0.52156863  0.56470588]]]\n",
      "\n",
      "\n",
      " [[[ 1.          1.          1.        ]\n",
      "   [ 1.          1.          1.        ]\n",
      "   [ 0.99215686  0.99215686  0.99215686]\n",
      "   ..., \n",
      "   [ 0.99215686  0.99215686  0.99215686]\n",
      "   [ 0.99215686  0.99215686  0.99215686]\n",
      "   [ 0.99215686  0.99215686  0.99215686]]\n",
      "\n",
      "  [[ 1.          1.          1.        ]\n",
      "   [ 1.          1.          1.        ]\n",
      "   [ 0.99215686  0.99215686  0.99215686]\n",
      "   ..., \n",
      "   [ 0.99215686  0.99215686  0.99215686]\n",
      "   [ 0.99215686  0.99215686  0.99215686]\n",
      "   [ 0.99215686  0.99215686  0.99215686]]\n",
      "\n",
      "  [[ 1.          1.          1.        ]\n",
      "   [ 1.          1.          1.        ]\n",
      "   [ 1.          1.          1.        ]\n",
      "   ..., \n",
      "   [ 1.          1.          1.        ]\n",
      "   [ 1.          1.          1.        ]\n",
      "   [ 1.          1.          1.        ]]\n",
      "\n",
      "  ..., \n",
      "  [[ 0.43529412  0.4627451   0.43137255]\n",
      "   [ 0.43529412  0.4627451   0.43137255]\n",
      "   [ 0.40784314  0.43529412  0.40784314]\n",
      "   ..., \n",
      "   [ 0.2745098   0.29803922  0.29411765]\n",
      "   [ 0.30588235  0.32941176  0.32156863]\n",
      "   [ 0.30588235  0.32941176  0.32156863]]\n",
      "\n",
      "  [[ 0.41568627  0.44313725  0.41176471]\n",
      "   [ 0.41568627  0.44313725  0.41176471]\n",
      "   [ 0.38823529  0.41568627  0.38431373]\n",
      "   ..., \n",
      "   [ 0.30980392  0.33333333  0.3254902 ]\n",
      "   [ 0.31372549  0.3372549   0.32941176]\n",
      "   [ 0.31372549  0.3372549   0.32941176]]\n",
      "\n",
      "  [[ 0.41568627  0.44313725  0.41176471]\n",
      "   [ 0.41568627  0.44313725  0.41176471]\n",
      "   [ 0.38823529  0.41568627  0.38431373]\n",
      "   ..., \n",
      "   [ 0.30980392  0.33333333  0.3254902 ]\n",
      "   [ 0.31372549  0.3372549   0.32941176]\n",
      "   [ 0.31372549  0.3372549   0.32941176]]]\n",
      "\n",
      "\n",
      " ..., \n",
      " [[[ 0.65490196  0.63921569  0.56862745]\n",
      "   [ 0.65490196  0.63921569  0.56862745]\n",
      "   [ 0.80784314  0.78823529  0.70980392]\n",
      "   ..., \n",
      "   [ 0.19607843  0.25098039  0.26666667]\n",
      "   [ 0.18039216  0.3372549   0.35294118]\n",
      "   [ 0.18039216  0.3372549   0.35294118]]\n",
      "\n",
      "  [[ 0.65490196  0.63921569  0.56862745]\n",
      "   [ 0.65490196  0.63921569  0.56862745]\n",
      "   [ 0.80784314  0.78823529  0.70980392]\n",
      "   ..., \n",
      "   [ 0.19607843  0.25098039  0.26666667]\n",
      "   [ 0.18039216  0.3372549   0.35294118]\n",
      "   [ 0.18039216  0.3372549   0.35294118]]\n",
      "\n",
      "  [[ 0.61176471  0.6         0.53333333]\n",
      "   [ 0.61176471  0.6         0.53333333]\n",
      "   [ 0.80784314  0.78823529  0.70980392]\n",
      "   ..., \n",
      "   [ 0.38823529  0.45098039  0.48235294]\n",
      "   [ 0.18823529  0.34509804  0.36862745]\n",
      "   [ 0.18823529  0.34509804  0.36862745]]\n",
      "\n",
      "  ..., \n",
      "  [[ 0.56078431  0.60784314  0.58823529]\n",
      "   [ 0.56078431  0.60784314  0.58823529]\n",
      "   [ 0.58039216  0.61568627  0.60392157]\n",
      "   ..., \n",
      "   [ 0.12156863  0.22745098  0.25882353]\n",
      "   [ 0.13333333  0.25882353  0.28627451]\n",
      "   [ 0.13333333  0.25882353  0.28627451]]\n",
      "\n",
      "  [[ 0.54509804  0.60392157  0.58431373]\n",
      "   [ 0.54509804  0.60392157  0.58431373]\n",
      "   [ 0.56470588  0.61568627  0.60784314]\n",
      "   ..., \n",
      "   [ 0.16470588  0.32156863  0.34117647]\n",
      "   [ 0.16470588  0.30588235  0.32941176]\n",
      "   [ 0.16470588  0.30588235  0.32941176]]\n",
      "\n",
      "  [[ 0.54509804  0.60392157  0.58431373]\n",
      "   [ 0.54509804  0.60392157  0.58431373]\n",
      "   [ 0.56470588  0.61568627  0.60784314]\n",
      "   ..., \n",
      "   [ 0.16470588  0.32156863  0.34117647]\n",
      "   [ 0.16470588  0.30588235  0.32941176]\n",
      "   [ 0.16470588  0.30588235  0.32941176]]]\n",
      "\n",
      "\n",
      " [[[ 0.60392157  0.59607843  0.49019608]\n",
      "   [ 0.60392157  0.59607843  0.49019608]\n",
      "   [ 0.61176471  0.60392157  0.50980392]\n",
      "   ..., \n",
      "   [ 0.51372549  0.50980392  0.38039216]\n",
      "   [ 0.60392157  0.58431373  0.43529412]\n",
      "   [ 0.60392157  0.58431373  0.43529412]]\n",
      "\n",
      "  [[ 0.60392157  0.59607843  0.49019608]\n",
      "   [ 0.60392157  0.59607843  0.49019608]\n",
      "   [ 0.61176471  0.60392157  0.50980392]\n",
      "   ..., \n",
      "   [ 0.51372549  0.50980392  0.38039216]\n",
      "   [ 0.60392157  0.58431373  0.43529412]\n",
      "   [ 0.60392157  0.58431373  0.43529412]]\n",
      "\n",
      "  [[ 0.63921569  0.58823529  0.43529412]\n",
      "   [ 0.63921569  0.58823529  0.43529412]\n",
      "   [ 0.69803922  0.65490196  0.49019608]\n",
      "   ..., \n",
      "   [ 0.65098039  0.64705882  0.4627451 ]\n",
      "   [ 0.65882353  0.64313725  0.45882353]\n",
      "   [ 0.65882353  0.64313725  0.45882353]]\n",
      "\n",
      "  ..., \n",
      "  [[ 0.61568627  0.62745098  0.42745098]\n",
      "   [ 0.61568627  0.62745098  0.42745098]\n",
      "   [ 0.57647059  0.6         0.40784314]\n",
      "   ..., \n",
      "   [ 0.74901961  0.89019608  0.45882353]\n",
      "   [ 0.67843137  0.84705882  0.41176471]\n",
      "   [ 0.67843137  0.84705882  0.41176471]]\n",
      "\n",
      "  [[ 0.6         0.58823529  0.4       ]\n",
      "   [ 0.6         0.58823529  0.4       ]\n",
      "   [ 0.58823529  0.62352941  0.38823529]\n",
      "   ..., \n",
      "   [ 0.73333333  0.92941176  0.42352941]\n",
      "   [ 0.76078431  0.96862745  0.44705882]\n",
      "   [ 0.76078431  0.96862745  0.44705882]]\n",
      "\n",
      "  [[ 0.6         0.58823529  0.4       ]\n",
      "   [ 0.6         0.58823529  0.4       ]\n",
      "   [ 0.58823529  0.62352941  0.38823529]\n",
      "   ..., \n",
      "   [ 0.73333333  0.92941176  0.42352941]\n",
      "   [ 0.76078431  0.96862745  0.44705882]\n",
      "   [ 0.76078431  0.96862745  0.44705882]]]\n",
      "\n",
      "\n",
      " [[[ 0.17647059  0.1254902   0.08235294]\n",
      "   [ 0.17647059  0.1254902   0.08235294]\n",
      "   [ 0.18823529  0.13333333  0.08235294]\n",
      "   ..., \n",
      "   [ 0.09019608  0.05490196  0.03921569]\n",
      "   [ 0.07843137  0.03921569  0.03137255]\n",
      "   [ 0.07843137  0.03921569  0.03137255]]\n",
      "\n",
      "  [[ 0.17647059  0.1254902   0.08235294]\n",
      "   [ 0.17647059  0.1254902   0.08235294]\n",
      "   [ 0.18823529  0.13333333  0.08235294]\n",
      "   ..., \n",
      "   [ 0.09019608  0.05490196  0.03921569]\n",
      "   [ 0.07843137  0.03921569  0.03137255]\n",
      "   [ 0.07843137  0.03921569  0.03137255]]\n",
      "\n",
      "  [[ 0.18431373  0.12941176  0.08235294]\n",
      "   [ 0.18431373  0.12941176  0.08235294]\n",
      "   [ 0.19607843  0.1372549   0.08627451]\n",
      "   ..., \n",
      "   [ 0.08627451  0.04313725  0.03921569]\n",
      "   [ 0.0745098   0.03137255  0.02745098]\n",
      "   [ 0.0745098   0.03137255  0.02745098]]\n",
      "\n",
      "  ..., \n",
      "  [[ 0.37647059  0.35294118  0.20784314]\n",
      "   [ 0.37647059  0.35294118  0.20784314]\n",
      "   [ 0.44705882  0.41568627  0.27058824]\n",
      "   ..., \n",
      "   [ 0.60392157  0.52941176  0.34901961]\n",
      "   [ 0.59607843  0.54509804  0.38039216]\n",
      "   [ 0.59607843  0.54509804  0.38039216]]\n",
      "\n",
      "  [[ 0.38039216  0.35686275  0.20392157]\n",
      "   [ 0.38039216  0.35686275  0.20392157]\n",
      "   [ 0.33333333  0.30980392  0.15686275]\n",
      "   ..., \n",
      "   [ 0.61176471  0.5372549   0.36470588]\n",
      "   [ 0.61176471  0.55686275  0.39215686]\n",
      "   [ 0.61176471  0.55686275  0.39215686]]\n",
      "\n",
      "  [[ 0.38039216  0.35686275  0.20392157]\n",
      "   [ 0.38039216  0.35686275  0.20392157]\n",
      "   [ 0.33333333  0.30980392  0.15686275]\n",
      "   ..., \n",
      "   [ 0.61176471  0.5372549   0.36470588]\n",
      "   [ 0.61176471  0.55686275  0.39215686]\n",
      "   [ 0.61176471  0.55686275  0.39215686]]]]\n"
     ]
    }
   ],
   "source": [
    "print x_train_vgg"
   ]
  },
  {
   "cell_type": "markdown",
   "metadata": {},
   "source": [
    "### Examples from training set (64x64 and 32x32)"
   ]
  },
  {
   "cell_type": "code",
   "execution_count": 33,
   "metadata": {},
   "outputs": [
    {
     "data": {
      "text/plain": [
       "<matplotlib.image.AxesImage at 0x7f693cf30b10>"
      ]
     },
     "execution_count": 33,
     "metadata": {},
     "output_type": "execute_result"
    },
    {
     "data": {
      "image/png": "[encoded data removed]",
      "text/plain": [
       "<matplotlib.figure.Figure at 0x7f693cf9ae10>"
      ]
     },
     "metadata": {},
     "output_type": "display_data"
    }
   ],
   "source": [
    "single_image = x_train_vgg[28:29]\n",
    "plt.imshow(single_image[0])         "
   ]
  },
  {
   "cell_type": "code",
   "execution_count": null,
   "metadata": {},
   "outputs": [],
   "source": [
    "single_image = x_train[300:301]\n",
    "plt.imshow(single_image[0])   "
   ]
  },
  {
   "cell_type": "markdown",
   "metadata": {},
   "source": [
    "### Zdjecie warstwy: include_top=False"
   ]
  },
  {
   "cell_type": "code",
   "execution_count": null,
   "metadata": {
    "collapsed": true
   },
   "outputs": [],
   "source": [
    "#first_model = cnn_model(IMG_SIZE,NUM_CLASSES)"
   ]
  },
  {
   "cell_type": "code",
   "execution_count": 9,
   "metadata": {},
   "outputs": [],
   "source": [
    "second_model = keras.applications.vgg16.VGG16(include_top=False, weights='imagenet', input_tensor=None, input_shape=(64,64,3), pooling=max)"
   ]
  },
  {
   "cell_type": "markdown",
   "metadata": {},
   "source": [
    "### Choose model (remember to set NUM_CLASSES)"
   ]
  },
  {
   "cell_type": "code",
   "execution_count": 10,
   "metadata": {},
   "outputs": [],
   "source": [
    "#model = first_model\n",
    "model = second_model"
   ]
  },
  {
   "cell_type": "code",
   "execution_count": 11,
   "metadata": {},
   "outputs": [
    {
     "data": {
      "text/plain": [
       "[<keras.engine.topology.InputLayer at 0x7f6a0ef2a0d0>,\n",
       " <keras.layers.convolutional.Conv2D at 0x7f6a0ef93450>,\n",
       " <keras.layers.convolutional.Conv2D at 0x7f6a0ef93fd0>,\n",
       " <keras.layers.pooling.MaxPooling2D at 0x7f6a0ef93ed0>,\n",
       " <keras.layers.convolutional.Conv2D at 0x7f6b3d41be10>,\n",
       " <keras.layers.convolutional.Conv2D at 0x7f6a0ee6c8d0>,\n",
       " <keras.layers.pooling.MaxPooling2D at 0x7f6a0eedd250>,\n",
       " <keras.layers.convolutional.Conv2D at 0x7f6a0ededfd0>,\n",
       " <keras.layers.convolutional.Conv2D at 0x7f6a0ee00e10>,\n",
       " <keras.layers.convolutional.Conv2D at 0x7f6a0ee15e10>,\n",
       " <keras.layers.pooling.MaxPooling2D at 0x7f6a0ee23dd0>,\n",
       " <keras.layers.convolutional.Conv2D at 0x7f6a0ede0b10>,\n",
       " <keras.layers.convolutional.Conv2D at 0x7f6a0ed74a10>,\n",
       " <keras.layers.convolutional.Conv2D at 0x7f6a0ed85810>,\n",
       " <keras.layers.pooling.MaxPooling2D at 0x7f6a0ed9a9d0>,\n",
       " <keras.layers.convolutional.Conv2D at 0x7f6a0ed55f50>,\n",
       " <keras.layers.convolutional.Conv2D at 0x7f6a0ed55d90>,\n",
       " <keras.layers.convolutional.Conv2D at 0x7f6a0ecfded0>,\n",
       " <keras.layers.pooling.MaxPooling2D at 0x7f6a0ed0fe50>]"
      ]
     },
     "execution_count": 11,
     "metadata": {},
     "output_type": "execute_result"
    }
   ],
   "source": [
    "model.layers"
   ]
  },
  {
   "cell_type": "markdown",
   "metadata": {},
   "source": [
    "### Freezing layers (for VGG16 additional layer, all previous layers need to be frozen)"
   ]
  },
  {
   "cell_type": "code",
   "execution_count": 12,
   "metadata": {},
   "outputs": [],
   "source": [
    "for layer in model.layers: layer.trainable=False"
   ]
  },
  {
   "cell_type": "markdown",
   "metadata": {},
   "source": [
    "### Alternative way to add last layer and activation "
   ]
  },
  {
   "cell_type": "code",
   "execution_count": 13,
   "metadata": {},
   "outputs": [],
   "source": [
    "#model.add(Dense(NUM_CLASSES, activation='softmax')) .add doesn't work for VGG16\n",
    "\n",
    "last = model.output\n",
    "\n",
    "x = Flatten()(last)\n",
    "preds = Dense(NUM_CLASSES, activation='softmax')(x)\n",
    "\n",
    "model = Model(model.input, preds)"
   ]
  },
  {
   "cell_type": "code",
   "execution_count": 14,
   "metadata": {},
   "outputs": [
    {
     "data": {
      "text/plain": [
       "[<keras.engine.topology.InputLayer at 0x7f6a0ef2a0d0>,\n",
       " <keras.layers.convolutional.Conv2D at 0x7f6a0ef93450>,\n",
       " <keras.layers.convolutional.Conv2D at 0x7f6a0ef93fd0>,\n",
       " <keras.layers.pooling.MaxPooling2D at 0x7f6a0ef93ed0>,\n",
       " <keras.layers.convolutional.Conv2D at 0x7f6b3d41be10>,\n",
       " <keras.layers.convolutional.Conv2D at 0x7f6a0ee6c8d0>,\n",
       " <keras.layers.pooling.MaxPooling2D at 0x7f6a0eedd250>,\n",
       " <keras.layers.convolutional.Conv2D at 0x7f6a0ededfd0>,\n",
       " <keras.layers.convolutional.Conv2D at 0x7f6a0ee00e10>,\n",
       " <keras.layers.convolutional.Conv2D at 0x7f6a0ee15e10>,\n",
       " <keras.layers.pooling.MaxPooling2D at 0x7f6a0ee23dd0>,\n",
       " <keras.layers.convolutional.Conv2D at 0x7f6a0ede0b10>,\n",
       " <keras.layers.convolutional.Conv2D at 0x7f6a0ed74a10>,\n",
       " <keras.layers.convolutional.Conv2D at 0x7f6a0ed85810>,\n",
       " <keras.layers.pooling.MaxPooling2D at 0x7f6a0ed9a9d0>,\n",
       " <keras.layers.convolutional.Conv2D at 0x7f6a0ed55f50>,\n",
       " <keras.layers.convolutional.Conv2D at 0x7f6a0ed55d90>,\n",
       " <keras.layers.convolutional.Conv2D at 0x7f6a0ecfded0>,\n",
       " <keras.layers.pooling.MaxPooling2D at 0x7f6a0ed0fe50>,\n",
       " <keras.layers.core.Flatten at 0x7f6a0ec70510>,\n",
       " <keras.layers.core.Dense at 0x7f6a0ee6cbd0>]"
      ]
     },
     "execution_count": 14,
     "metadata": {},
     "output_type": "execute_result"
    }
   ],
   "source": [
    "model.layers"
   ]
  },
  {
   "cell_type": "code",
   "execution_count": 15,
   "metadata": {},
   "outputs": [
    {
     "name": "stdout",
     "output_type": "stream",
     "text": [
      "_________________________________________________________________\n",
      "Layer (type)                 Output Shape              Param #   \n",
      "=================================================================\n",
      "input_1 (InputLayer)         (None, 64, 64, 3)         0         \n",
      "_________________________________________________________________\n",
      "block1_conv1 (Conv2D)        (None, 64, 64, 64)        1792      \n",
      "_________________________________________________________________\n",
      "block1_conv2 (Conv2D)        (None, 64, 64, 64)        36928     \n",
      "_________________________________________________________________\n",
      "block1_pool (MaxPooling2D)   (None, 32, 32, 64)        0         \n",
      "_________________________________________________________________\n",
      "block2_conv1 (Conv2D)        (None, 32, 32, 128)       73856     \n",
      "_________________________________________________________________\n",
      "block2_conv2 (Conv2D)        (None, 32, 32, 128)       147584    \n",
      "_________________________________________________________________\n",
      "block2_pool (MaxPooling2D)   (None, 16, 16, 128)       0         \n",
      "_________________________________________________________________\n",
      "block3_conv1 (Conv2D)        (None, 16, 16, 256)       295168    \n",
      "_________________________________________________________________\n",
      "block3_conv2 (Conv2D)        (None, 16, 16, 256)       590080    \n",
      "_________________________________________________________________\n",
      "block3_conv3 (Conv2D)        (None, 16, 16, 256)       590080    \n",
      "_________________________________________________________________\n",
      "block3_pool (MaxPooling2D)   (None, 8, 8, 256)         0         \n",
      "_________________________________________________________________\n",
      "block4_conv1 (Conv2D)        (None, 8, 8, 512)         1180160   \n",
      "_________________________________________________________________\n",
      "block4_conv2 (Conv2D)        (None, 8, 8, 512)         2359808   \n",
      "_________________________________________________________________\n",
      "block4_conv3 (Conv2D)        (None, 8, 8, 512)         2359808   \n",
      "_________________________________________________________________\n",
      "block4_pool (MaxPooling2D)   (None, 4, 4, 512)         0         \n",
      "_________________________________________________________________\n",
      "block5_conv1 (Conv2D)        (None, 4, 4, 512)         2359808   \n",
      "_________________________________________________________________\n",
      "block5_conv2 (Conv2D)        (None, 4, 4, 512)         2359808   \n",
      "_________________________________________________________________\n",
      "block5_conv3 (Conv2D)        (None, 4, 4, 512)         2359808   \n",
      "_________________________________________________________________\n",
      "block5_pool (MaxPooling2D)   (None, 2, 2, 512)         0         \n",
      "_________________________________________________________________\n",
      "flatten_1 (Flatten)          (None, 2048)              0         \n",
      "_________________________________________________________________\n",
      "dense_1 (Dense)              (None, 10)                20490     \n",
      "=================================================================\n",
      "Total params: 14,735,178\n",
      "Trainable params: 20,490\n",
      "Non-trainable params: 14,714,688\n",
      "_________________________________________________________________\n"
     ]
    }
   ],
   "source": [
    "model.summary()"
   ]
  },
  {
   "cell_type": "code",
   "execution_count": 16,
   "metadata": {
    "collapsed": true
   },
   "outputs": [],
   "source": [
    "model.compile(optimizer='Adam',loss='sparse_categorical_crossentropy',metrics=['accuracy'])"
   ]
  },
  {
   "cell_type": "code",
   "execution_count": null,
   "metadata": {},
   "outputs": [
    {
     "name": "stdout",
     "output_type": "stream",
     "text": [
      "Epoch 1/10\n",
      "5000/5000 [==============================] - 128s - loss: 0.6628 - acc: 0.7994   \n",
      "Epoch 2/10\n",
      "5000/5000 [==============================] - 126s - loss: 0.6497 - acc: 0.8066   \n",
      "Epoch 3/10\n",
      "5000/5000 [==============================] - 125s - loss: 0.6392 - acc: 0.8096   \n",
      "Epoch 4/10\n",
      "5000/5000 [==============================] - 126s - loss: 0.6248 - acc: 0.8144   \n",
      "Epoch 5/10\n",
      "5000/5000 [==============================] - 126s - loss: 0.6152 - acc: 0.8160   \n",
      "Epoch 6/10\n",
      "5000/5000 [==============================] - 126s - loss: 0.6054 - acc: 0.8236   \n",
      "Epoch 7/10\n",
      "5000/5000 [==============================] - 126s - loss: 0.5972 - acc: 0.8270   \n",
      "Epoch 8/10\n",
      "5000/5000 [==============================] - 125s - loss: 0.5877 - acc: 0.8240   \n",
      "Epoch 9/10\n",
      "5000/5000 [==============================] - 126s - loss: 0.5814 - acc: 0.8316   \n",
      "Epoch 10/10\n",
      "3456/5000 [===================>..........] - ETA: 39s - loss: 0.5793 - acc: 0.8325"
     ]
    }
   ],
   "source": [
    "#1st model\n",
    "#model.fit(x_train, y_train, batch_size=128, epochs=10)\n",
    "#2nd model\n",
    "model.fit(x_train_vgg, y_train_vgg, batch_size=128, epochs=10)"
   ]
  },
  {
   "cell_type": "markdown",
   "metadata": {},
   "source": [
    "### Set test size to 64x64"
   ]
  },
  {
   "cell_type": "code",
   "execution_count": null,
   "metadata": {},
   "outputs": [],
   "source": [
    "model.evaluate(x_test, y_test)"
   ]
  },
  {
   "cell_type": "code",
   "execution_count": null,
   "metadata": {
    "collapsed": true
   },
   "outputs": [],
   "source": []
  }
 ],
 "metadata": {
  "kernelspec": {
   "display_name": "Python 2",
   "language": "python",
   "name": "python2"
  },
  "language_info": {
   "codemirror_mode": {
    "name": "ipython",
    "version": 2
   },
   "file_extension": ".py",
   "mimetype": "text/x-python",
   "name": "python",
   "nbconvert_exporter": "python",
   "pygments_lexer": "ipython2",
   "version": "2.7.13"
  }
 },
 "nbformat": 4,
 "nbformat_minor": 2
}
