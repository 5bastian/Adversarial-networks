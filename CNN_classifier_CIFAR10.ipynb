{
 "cells": [
  {
   "cell_type": "code",
   "execution_count": 1,
   "metadata": {},
   "outputs": [
    {
     "name": "stderr",
     "output_type": "stream",
     "text": [
      "Using TensorFlow backend.\n"
     ]
    }
   ],
   "source": [
    "from matplotlib import pyplot as plt\n",
    "import numpy as np\n",
    "import classifier_utils\n",
    "from classifier_utils import cnn_model, preprocess_img, get_class\n",
    "%matplotlib inline\n",
    "import glob\n",
    "import os\n",
    "from skimage import io\n",
    "from skimage import transform\n",
    "import keras\n",
    "from keras.layers.core import Flatten, Dense, Dropout, Lambda\n",
    "from keras.models import Sequential, Model\n",
    "from keras.datasets import cifar10\n",
    "\n",
    "import vgg16\n"
   ]
  },
  {
   "cell_type": "code",
   "execution_count": 2,
   "metadata": {
    "collapsed": true
   },
   "outputs": [],
   "source": [
    "(x_train, y_train), (x_test, y_test) = cifar10.load_data()"
   ]
  },
  {
   "cell_type": "code",
   "execution_count": 3,
   "metadata": {},
   "outputs": [
    {
     "name": "stdout",
     "output_type": "stream",
     "text": [
      "[9]\n"
     ]
    }
   ],
   "source": [
    "print y_train[1]"
   ]
  },
  {
   "cell_type": "markdown",
   "metadata": {},
   "source": [
    "### Array details (dimension, type):"
   ]
  },
  {
   "cell_type": "code",
   "execution_count": null,
   "metadata": {},
   "outputs": [],
   "source": [
    "print x_train.shape"
   ]
  },
  {
   "cell_type": "code",
   "execution_count": null,
   "metadata": {},
   "outputs": [],
   "source": [
    "type(x_train)"
   ]
  },
  {
   "cell_type": "code",
   "execution_count": null,
   "metadata": {},
   "outputs": [],
   "source": [
    "print x_train"
   ]
  },
  {
   "cell_type": "markdown",
   "metadata": {},
   "source": [
    "### Image resizing. Vgg16 takes minimum size of 48x48"
   ]
  },
  {
   "cell_type": "code",
   "execution_count": null,
   "metadata": {},
   "outputs": [],
   "source": [
    "x_train_vgg = np.zeros((50000,64,64,3))\n",
    "\n",
    "for i in range(50000):\n",
    "    x_train_vgg[i] = transform.resize(x_train[i], (64, 64), order=0)"
   ]
  },
  {
   "cell_type": "code",
   "execution_count": 5,
   "metadata": {
    "collapsed": true
   },
   "outputs": [],
   "source": [
    "#1st model\n",
    "IMG_SIZE = 32\n",
    "#2nd model\n",
    "#IMG_SIZE = 64 \n",
    "NUM_CLASSES = 10"
   ]
  },
  {
   "cell_type": "markdown",
   "metadata": {},
   "source": [
    "### Reducing amount of pictures"
   ]
  },
  {
   "cell_type": "code",
   "execution_count": 7,
   "metadata": {
    "collapsed": true
   },
   "outputs": [],
   "source": [
    "#1st model\n",
    "x_train = x_train[0:5000]\n",
    "y_train = y_train[0:5000]"
   ]
  },
  {
   "cell_type": "code",
   "execution_count": null,
   "metadata": {
    "collapsed": true
   },
   "outputs": [],
   "source": [
    "#2nd model\n",
    "x_train_vgg = x_train_vgg[0:5000]\n",
    "y_train_vgg = y_train[0:5000]"
   ]
  },
  {
   "cell_type": "code",
   "execution_count": 8,
   "metadata": {},
   "outputs": [
    {
     "name": "stdout",
     "output_type": "stream",
     "text": [
      "(5000, 32, 32, 3)\n"
     ]
    }
   ],
   "source": [
    "print x_train.shape"
   ]
  },
  {
   "cell_type": "code",
   "execution_count": 9,
   "metadata": {},
   "outputs": [],
   "source": [
    "x_train = x_train.astype('float32')/255 # now values are between 0 and 1"
   ]
  },
  {
   "cell_type": "markdown",
   "metadata": {},
   "source": [
    "### Why already calculated values? By default on .resize"
   ]
  },
  {
   "cell_type": "code",
   "execution_count": 10,
   "metadata": {},
   "outputs": [
    {
     "name": "stdout",
     "output_type": "stream",
     "text": [
      "[[[[ 0.23137255  0.24313726  0.24705882]\n",
      "   [ 0.16862746  0.18039216  0.17647059]\n",
      "   [ 0.19607843  0.1882353   0.16862746]\n",
      "   ..., \n",
      "   [ 0.61960787  0.51764709  0.42352942]\n",
      "   [ 0.59607846  0.49019608  0.40000001]\n",
      "   [ 0.58039218  0.48627451  0.40392157]]\n",
      "\n",
      "  [[ 0.0627451   0.07843138  0.07843138]\n",
      "   [ 0.          0.          0.        ]\n",
      "   [ 0.07058824  0.03137255  0.        ]\n",
      "   ..., \n",
      "   [ 0.48235294  0.34509805  0.21568628]\n",
      "   [ 0.46666667  0.32549021  0.19607843]\n",
      "   [ 0.47843137  0.34117648  0.22352941]]\n",
      "\n",
      "  [[ 0.09803922  0.09411765  0.08235294]\n",
      "   [ 0.0627451   0.02745098  0.        ]\n",
      "   [ 0.19215687  0.10588235  0.03137255]\n",
      "   ..., \n",
      "   [ 0.4627451   0.32941177  0.19607843]\n",
      "   [ 0.47058824  0.32941177  0.19607843]\n",
      "   [ 0.42745098  0.28627452  0.16470589]]\n",
      "\n",
      "  ..., \n",
      "  [[ 0.81568629  0.66666669  0.3764706 ]\n",
      "   [ 0.78823531  0.60000002  0.13333334]\n",
      "   [ 0.7764706   0.63137257  0.10196079]\n",
      "   ..., \n",
      "   [ 0.627451    0.52156866  0.27450982]\n",
      "   [ 0.21960784  0.12156863  0.02745098]\n",
      "   [ 0.20784314  0.13333334  0.07843138]]\n",
      "\n",
      "  [[ 0.70588237  0.54509807  0.3764706 ]\n",
      "   [ 0.67843139  0.48235294  0.16470589]\n",
      "   [ 0.72941178  0.56470591  0.11764706]\n",
      "   ..., \n",
      "   [ 0.72156864  0.58039218  0.36862746]\n",
      "   [ 0.38039216  0.24313726  0.13333334]\n",
      "   [ 0.32549021  0.20784314  0.13333334]]\n",
      "\n",
      "  [[ 0.69411767  0.56470591  0.45490196]\n",
      "   [ 0.65882355  0.50588238  0.36862746]\n",
      "   [ 0.7019608   0.55686277  0.34117648]\n",
      "   ..., \n",
      "   [ 0.84705883  0.72156864  0.54901963]\n",
      "   [ 0.59215689  0.4627451   0.32941177]\n",
      "   [ 0.48235294  0.36078432  0.28235295]]]\n",
      "\n",
      "\n",
      " [[[ 0.60392159  0.69411767  0.73333335]\n",
      "   [ 0.49411765  0.53725493  0.53333336]\n",
      "   [ 0.41176471  0.40784314  0.37254903]\n",
      "   ..., \n",
      "   [ 0.35686275  0.37254903  0.27843139]\n",
      "   [ 0.34117648  0.35294119  0.27843139]\n",
      "   [ 0.30980393  0.31764707  0.27450982]]\n",
      "\n",
      "  [[ 0.54901963  0.627451    0.66274512]\n",
      "   [ 0.56862748  0.60000002  0.60392159]\n",
      "   [ 0.49019608  0.49019608  0.4627451 ]\n",
      "   ..., \n",
      "   [ 0.3764706   0.3882353   0.30588236]\n",
      "   [ 0.3019608   0.3137255   0.24313726]\n",
      "   [ 0.27843139  0.28627452  0.23921569]]\n",
      "\n",
      "  [[ 0.54901963  0.60784316  0.64313728]\n",
      "   [ 0.54509807  0.57254905  0.58431375]\n",
      "   [ 0.4509804   0.4509804   0.43921569]\n",
      "   ..., \n",
      "   [ 0.30980393  0.32156864  0.25098041]\n",
      "   [ 0.26666668  0.27450982  0.21568628]\n",
      "   [ 0.26274511  0.27058825  0.21568628]]\n",
      "\n",
      "  ..., \n",
      "  [[ 0.68627453  0.65490198  0.65098041]\n",
      "   [ 0.61176473  0.60392159  0.627451  ]\n",
      "   [ 0.60392159  0.627451    0.66666669]\n",
      "   ..., \n",
      "   [ 0.16470589  0.13333334  0.14117648]\n",
      "   [ 0.23921569  0.20784314  0.22352941]\n",
      "   [ 0.36470589  0.32549021  0.35686275]]\n",
      "\n",
      "  [[ 0.64705884  0.60392159  0.50196081]\n",
      "   [ 0.61176473  0.59607846  0.50980395]\n",
      "   [ 0.62352943  0.63137257  0.55686277]\n",
      "   ..., \n",
      "   [ 0.40392157  0.36470589  0.3764706 ]\n",
      "   [ 0.48235294  0.44705883  0.47058824]\n",
      "   [ 0.51372552  0.47450981  0.51372552]]\n",
      "\n",
      "  [[ 0.63921571  0.58039218  0.47058824]\n",
      "   [ 0.61960787  0.58039218  0.47843137]\n",
      "   [ 0.63921571  0.61176473  0.52156866]\n",
      "   ..., \n",
      "   [ 0.56078434  0.52156866  0.54509807]\n",
      "   [ 0.56078434  0.52549022  0.55686277]\n",
      "   [ 0.56078434  0.52156866  0.56470591]]]\n",
      "\n",
      "\n",
      " [[[ 1.          1.          1.        ]\n",
      "   [ 0.99215686  0.99215686  0.99215686]\n",
      "   [ 0.99215686  0.99215686  0.99215686]\n",
      "   ..., \n",
      "   [ 0.99215686  0.99215686  0.99215686]\n",
      "   [ 0.99215686  0.99215686  0.99215686]\n",
      "   [ 0.99215686  0.99215686  0.99215686]]\n",
      "\n",
      "  [[ 1.          1.          1.        ]\n",
      "   [ 1.          1.          1.        ]\n",
      "   [ 1.          1.          1.        ]\n",
      "   ..., \n",
      "   [ 1.          1.          1.        ]\n",
      "   [ 1.          1.          1.        ]\n",
      "   [ 1.          1.          1.        ]]\n",
      "\n",
      "  [[ 1.          1.          1.        ]\n",
      "   [ 0.99607843  0.99607843  0.99607843]\n",
      "   [ 0.99607843  0.99607843  0.99607843]\n",
      "   ..., \n",
      "   [ 0.99607843  0.99607843  0.99607843]\n",
      "   [ 0.99607843  0.99607843  0.99607843]\n",
      "   [ 0.99607843  0.99607843  0.99607843]]\n",
      "\n",
      "  ..., \n",
      "  [[ 0.44313726  0.47058824  0.43921569]\n",
      "   [ 0.43529412  0.4627451   0.43529412]\n",
      "   [ 0.41176471  0.43921569  0.41568628]\n",
      "   ..., \n",
      "   [ 0.28235295  0.31764707  0.3137255 ]\n",
      "   [ 0.28235295  0.3137255   0.30980393]\n",
      "   [ 0.28235295  0.3137255   0.30980393]]\n",
      "\n",
      "  [[ 0.43529412  0.4627451   0.43137255]\n",
      "   [ 0.40784314  0.43529412  0.40784314]\n",
      "   [ 0.3882353   0.41568628  0.38431373]\n",
      "   ..., \n",
      "   [ 0.26666668  0.29411766  0.28627452]\n",
      "   [ 0.27450982  0.29803923  0.29411766]\n",
      "   [ 0.30588236  0.32941177  0.32156864]]\n",
      "\n",
      "  [[ 0.41568628  0.44313726  0.41176471]\n",
      "   [ 0.3882353   0.41568628  0.38431373]\n",
      "   [ 0.37254903  0.40000001  0.36862746]\n",
      "   ..., \n",
      "   [ 0.30588236  0.33333334  0.32549021]\n",
      "   [ 0.30980393  0.33333334  0.32549021]\n",
      "   [ 0.3137255   0.33725491  0.32941177]]]\n",
      "\n",
      "\n",
      " ..., \n",
      " [[[ 0.65490198  0.63921571  0.56862748]\n",
      "   [ 0.80784315  0.78823531  0.70980394]\n",
      "   [ 0.79215688  0.76862746  0.69411767]\n",
      "   ..., \n",
      "   [ 0.35686275  0.33333334  0.34901962]\n",
      "   [ 0.19607843  0.25098041  0.26666668]\n",
      "   [ 0.18039216  0.33725491  0.35294119]]\n",
      "\n",
      "  [[ 0.61176473  0.60000002  0.53333336]\n",
      "   [ 0.80784315  0.78823531  0.70980394]\n",
      "   [ 0.80784315  0.78039217  0.70588237]\n",
      "   ..., \n",
      "   [ 0.67058825  0.65098041  0.68235296]\n",
      "   [ 0.3882353   0.4509804   0.48235294]\n",
      "   [ 0.1882353   0.34509805  0.36862746]]\n",
      "\n",
      "  [[ 0.57647061  0.56078434  0.50196081]\n",
      "   [ 0.75294119  0.72941178  0.65490198]\n",
      "   [ 0.80784315  0.7764706   0.69411767]\n",
      "   ..., \n",
      "   [ 0.67843139  0.6901961   0.72941178]\n",
      "   [ 0.41568628  0.50980395  0.54901963]\n",
      "   [ 0.1882353   0.35294119  0.3764706 ]]\n",
      "\n",
      "  ..., \n",
      "  [[ 0.56470591  0.61176473  0.59215689]\n",
      "   [ 0.56862748  0.60000002  0.58039218]\n",
      "   [ 0.59607846  0.627451    0.61176473]\n",
      "   ..., \n",
      "   [ 0.17647059  0.33333334  0.35686275]\n",
      "   [ 0.16078432  0.30588236  0.33333334]\n",
      "   [ 0.18431373  0.34509805  0.36862746]]\n",
      "\n",
      "  [[ 0.56078434  0.60784316  0.58823532]\n",
      "   [ 0.58039218  0.6156863   0.60392159]\n",
      "   [ 0.61176473  0.65490198  0.65490198]\n",
      "   ..., \n",
      "   [ 0.1254902   0.21960784  0.25490198]\n",
      "   [ 0.12156863  0.22745098  0.25882354]\n",
      "   [ 0.13333334  0.25882354  0.28627452]]\n",
      "\n",
      "  [[ 0.54509807  0.60392159  0.58431375]\n",
      "   [ 0.56470591  0.6156863   0.60784316]\n",
      "   [ 0.54901963  0.6156863   0.62352943]\n",
      "   ..., \n",
      "   [ 0.15294118  0.29411766  0.31764707]\n",
      "   [ 0.16470589  0.32156864  0.34117648]\n",
      "   [ 0.16470589  0.30588236  0.32941177]]]\n",
      "\n",
      "\n",
      " [[[ 0.60392159  0.59607846  0.49019608]\n",
      "   [ 0.61176473  0.60392159  0.50980395]\n",
      "   [ 0.58431375  0.57254905  0.49019608]\n",
      "   ..., \n",
      "   [ 0.61176473  0.60392159  0.43137255]\n",
      "   [ 0.51372552  0.50980395  0.38039216]\n",
      "   [ 0.60392159  0.58431375  0.43529412]]\n",
      "\n",
      "  [[ 0.63921571  0.58823532  0.43529412]\n",
      "   [ 0.69803923  0.65490198  0.49019608]\n",
      "   [ 0.7019608   0.65882355  0.49411765]\n",
      "   ..., \n",
      "   [ 0.72549021  0.68627453  0.49803922]\n",
      "   [ 0.65098041  0.64705884  0.4627451 ]\n",
      "   [ 0.65882355  0.64313728  0.45882353]]\n",
      "\n",
      "  [[ 0.7764706   0.72156864  0.49411765]\n",
      "   [ 0.73725492  0.67843139  0.45882353]\n",
      "   [ 0.75686276  0.7019608   0.47450981]\n",
      "   ..., \n",
      "   [ 0.73725492  0.65098041  0.4627451 ]\n",
      "   [ 0.72156864  0.67450982  0.49411765]\n",
      "   [ 0.71764708  0.7019608   0.50196081]]\n",
      "\n",
      "  ..., \n",
      "  [[ 0.73333335  0.72549021  0.51764709]\n",
      "   [ 0.68627453  0.68627453  0.50588238]\n",
      "   [ 0.63529414  0.63529414  0.42745098]\n",
      "   ..., \n",
      "   [ 0.78823531  0.8509804   0.50588238]\n",
      "   [ 0.78431374  0.86274511  0.50588238]\n",
      "   [ 0.74509805  0.80392158  0.4627451 ]]\n",
      "\n",
      "  [[ 0.6156863   0.627451    0.42745098]\n",
      "   [ 0.57647061  0.60000002  0.40784314]\n",
      "   [ 0.56470591  0.6156863   0.38431373]\n",
      "   ..., \n",
      "   [ 0.83529413  0.90980393  0.52549022]\n",
      "   [ 0.74901962  0.89019608  0.45882353]\n",
      "   [ 0.67843139  0.84705883  0.41176471]]\n",
      "\n",
      "  [[ 0.60000002  0.58823532  0.40000001]\n",
      "   [ 0.58823532  0.62352943  0.3882353 ]\n",
      "   [ 0.67843139  0.7647059   0.48627451]\n",
      "   ..., \n",
      "   [ 0.7647059   0.91764706  0.44313726]\n",
      "   [ 0.73333335  0.92941177  0.42352942]\n",
      "   [ 0.76078433  0.96862745  0.44705883]]]\n",
      "\n",
      "\n",
      " [[[ 0.17647059  0.1254902   0.08235294]\n",
      "   [ 0.1882353   0.13333334  0.08235294]\n",
      "   [ 0.25882354  0.21176471  0.16078432]\n",
      "   ..., \n",
      "   [ 0.07450981  0.03529412  0.02745098]\n",
      "   [ 0.09019608  0.05490196  0.03921569]\n",
      "   [ 0.07843138  0.03921569  0.03137255]]\n",
      "\n",
      "  [[ 0.18431373  0.12941177  0.08235294]\n",
      "   [ 0.19607843  0.13725491  0.08627451]\n",
      "   [ 0.27843139  0.22745098  0.17254902]\n",
      "   ..., \n",
      "   [ 0.08627451  0.03921569  0.03137255]\n",
      "   [ 0.08627451  0.04313726  0.03921569]\n",
      "   [ 0.07450981  0.03137255  0.02745098]]\n",
      "\n",
      "  [[ 0.18431373  0.13725491  0.08627451]\n",
      "   [ 0.21176471  0.15686275  0.09411765]\n",
      "   [ 0.24705882  0.19607843  0.13725491]\n",
      "   ..., \n",
      "   [ 0.09411765  0.03921569  0.02745098]\n",
      "   [ 0.07058824  0.02352941  0.02352941]\n",
      "   [ 0.07058824  0.02745098  0.02352941]]\n",
      "\n",
      "  ..., \n",
      "  [[ 0.42745098  0.41176471  0.25882354]\n",
      "   [ 0.44313726  0.42352942  0.26666668]\n",
      "   [ 0.4509804   0.41568628  0.26274511]\n",
      "   ..., \n",
      "   [ 0.40392157  0.34117648  0.21568628]\n",
      "   [ 0.33333334  0.29411766  0.16862746]\n",
      "   [ 0.38039216  0.33333334  0.20392157]]\n",
      "\n",
      "  [[ 0.3764706   0.35294119  0.20784314]\n",
      "   [ 0.44705883  0.41568628  0.27058825]\n",
      "   [ 0.43529412  0.40000001  0.25098041]\n",
      "   ..., \n",
      "   [ 0.64313728  0.57254905  0.40784314]\n",
      "   [ 0.60392159  0.52941179  0.34901962]\n",
      "   [ 0.59607846  0.54509807  0.38039216]]\n",
      "\n",
      "  [[ 0.38039216  0.35686275  0.20392157]\n",
      "   [ 0.33333334  0.30980393  0.15686275]\n",
      "   [ 0.41176471  0.3882353   0.22352941]\n",
      "   ..., \n",
      "   [ 0.63137257  0.58039218  0.42352942]\n",
      "   [ 0.61176473  0.53725493  0.36470589]\n",
      "   [ 0.61176473  0.55686277  0.39215687]]]]\n"
     ]
    }
   ],
   "source": [
    "print x_train"
   ]
  },
  {
   "cell_type": "markdown",
   "metadata": {},
   "source": [
    "### Examples from training set (64x64 and 32x32)"
   ]
  },
  {
   "cell_type": "code",
   "execution_count": null,
   "metadata": {},
   "outputs": [],
   "source": [
    "single_image = x_train_vgg[300:301]\n",
    "plt.imshow(single_image[0])         "
   ]
  },
  {
   "cell_type": "code",
   "execution_count": 11,
   "metadata": {},
   "outputs": [
    {
     "data": {
      "text/plain": [
       "<matplotlib.image.AxesImage at 0x7f64174fc5d0>"
      ]
     },
     "execution_count": 11,
     "metadata": {},
     "output_type": "execute_result"
    },
    {
     "data": {
      "image/png": "[encoded data removed]",
      "text/plain": [
       "<matplotlib.figure.Figure at 0x7f64175c7690>"
      ]
     },
     "metadata": {},
     "output_type": "display_data"
    }
   ],
   "source": [
    "single_image = x_train[300:301]\n",
    "plt.imshow(single_image[0])   "
   ]
  },
  {
   "cell_type": "markdown",
   "metadata": {},
   "source": [
    "### Zdjecie warstwy: include_top=False"
   ]
  },
  {
   "cell_type": "code",
   "execution_count": 12,
   "metadata": {
    "collapsed": true
   },
   "outputs": [],
   "source": [
    "first_model = cnn_model(IMG_SIZE,NUM_CLASSES)"
   ]
  },
  {
   "cell_type": "code",
   "execution_count": null,
   "metadata": {},
   "outputs": [],
   "source": [
    "#second_model = keras.applications.vgg16.VGG16(include_top=False, weights='imagenet', input_tensor=None, input_shape=(64,64,3), pooling=max)"
   ]
  },
  {
   "cell_type": "markdown",
   "metadata": {},
   "source": [
    "### Choose model (remember to set NUM_CLASSES)"
   ]
  },
  {
   "cell_type": "code",
   "execution_count": 13,
   "metadata": {},
   "outputs": [],
   "source": [
    "model = first_model\n",
    "#model = second_model"
   ]
  },
  {
   "cell_type": "code",
   "execution_count": null,
   "metadata": {},
   "outputs": [],
   "source": [
    "model.layers"
   ]
  },
  {
   "cell_type": "markdown",
   "metadata": {},
   "source": [
    "### Alternative way to add last layer and activation "
   ]
  },
  {
   "cell_type": "code",
   "execution_count": null,
   "metadata": {},
   "outputs": [],
   "source": [
    "#model.add(Dense(NUM_CLASSES, activation='softmax')) .add doesn't work for VGG16\n",
    "\n",
    "last = model.output\n",
    "\n",
    "x = Flatten()(last)\n",
    "preds = Dense(NUM_CLASSES, activation='softmax')(x)\n",
    "\n",
    "model = Model(model.input, preds)"
   ]
  },
  {
   "cell_type": "code",
   "execution_count": null,
   "metadata": {},
   "outputs": [],
   "source": [
    "model.layers"
   ]
  },
  {
   "cell_type": "code",
   "execution_count": null,
   "metadata": {},
   "outputs": [],
   "source": [
    "model.summary()"
   ]
  },
  {
   "cell_type": "code",
   "execution_count": 14,
   "metadata": {
    "collapsed": true
   },
   "outputs": [],
   "source": [
    "model.compile(optimizer='Adam',loss='sparse_categorical_crossentropy',metrics=['accuracy'])"
   ]
  },
  {
   "cell_type": "code",
   "execution_count": 17,
   "metadata": {},
   "outputs": [
    {
     "name": "stdout",
     "output_type": "stream",
     "text": [
      "Epoch 1/10\n",
      "5000/5000 [==============================] - 11s - loss: 1.0851 - acc: 0.6012    \n",
      "Epoch 2/10\n",
      "5000/5000 [==============================] - 11s - loss: 1.0459 - acc: 0.6222    \n",
      "Epoch 3/10\n",
      "5000/5000 [==============================] - 12s - loss: 0.9742 - acc: 0.6458    \n",
      "Epoch 4/10\n",
      "5000/5000 [==============================] - 12s - loss: 0.9551 - acc: 0.6512    \n",
      "Epoch 5/10\n",
      "5000/5000 [==============================] - 11s - loss: 0.9328 - acc: 0.6668    \n",
      "Epoch 6/10\n",
      "5000/5000 [==============================] - 14s - loss: 0.8943 - acc: 0.6778    \n",
      "Epoch 7/10\n",
      "5000/5000 [==============================] - 12s - loss: 0.8839 - acc: 0.6786    \n",
      "Epoch 8/10\n",
      "5000/5000 [==============================] - 12s - loss: 0.8265 - acc: 0.7002    \n",
      "Epoch 9/10\n",
      "5000/5000 [==============================] - 12s - loss: 0.7843 - acc: 0.7168    \n",
      "Epoch 10/10\n",
      "5000/5000 [==============================] - 12s - loss: 0.7385 - acc: 0.7358    \n"
     ]
    },
    {
     "data": {
      "text/plain": [
       "<keras.callbacks.History at 0x7f641723ae10>"
      ]
     },
     "execution_count": 17,
     "metadata": {},
     "output_type": "execute_result"
    }
   ],
   "source": [
    "#1st model\n",
    "model.fit(x_train, y_train, batch_size=128, epochs=10)\n",
    "#2nd model\n",
    "#model.fit(x_train_vgg, y_train_vgg, batch_size=128, epochs=2)"
   ]
  },
  {
   "cell_type": "code",
   "execution_count": null,
   "metadata": {},
   "outputs": [],
   "source": [
    "model.evaluate(x_test, y_test)"
   ]
  },
  {
   "cell_type": "code",
   "execution_count": null,
   "metadata": {
    "collapsed": true
   },
   "outputs": [],
   "source": []
  }
 ],
 "metadata": {
  "kernelspec": {
   "display_name": "Python 2",
   "language": "python",
   "name": "python2"
  },
  "language_info": {
   "codemirror_mode": {
    "name": "ipython",
    "version": 2
   },
   "file_extension": ".py",
   "mimetype": "text/x-python",
   "name": "python",
   "nbconvert_exporter": "python",
   "pygments_lexer": "ipython2",
   "version": "2.7.13"
  }
 },
 "nbformat": 4,
 "nbformat_minor": 2
}
